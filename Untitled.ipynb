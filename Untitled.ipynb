{
 "cells": [
  {
   "cell_type": "code",
   "execution_count": null,
   "id": "3c02985b",
   "metadata": {},
   "outputs": [],
   "source": [
    "use ycsb\n",
    "db.usertable.deleteMany({})\n",
    "\n",
    "\n",
    "\n",
    "\n",
    "./bin/ycsb.sh load mongodb -s -P workloads/workloadb > /home/hduser/Documents/GitHub/sba22222_Integrated_CA2/mongo_workloadb.txt\n"
   ]
  }
 ],
 "metadata": {
  "kernelspec": {
   "display_name": "Python 3 (ipykernel)",
   "language": "python",
   "name": "python3"
  },
  "language_info": {
   "codemirror_mode": {
    "name": "ipython",
    "version": 3
   },
   "file_extension": ".py",
   "mimetype": "text/x-python",
   "name": "python",
   "nbconvert_exporter": "python",
   "pygments_lexer": "ipython3",
   "version": "3.10.6"
  }
 },
 "nbformat": 4,
 "nbformat_minor": 5
}
